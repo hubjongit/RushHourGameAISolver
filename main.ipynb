{
 "cells": [
  {
   "cell_type": "code",
   "execution_count": 216,
   "metadata": {
    "collapsed": false
   },
   "outputs": [],
   "source": [
    "import numpy as np"
   ]
  },
  {
   "cell_type": "markdown",
   "metadata": {
    "collapsed": false
   },
   "source": [
    "### Game Class"
   ]
  },
  {
   "cell_type": "code",
   "execution_count": 217,
   "metadata": {
    "collapsed": false
   },
   "outputs": [],
   "source": [
    "class PuzzleState:\n",
    "\n",
    "    def __init__(self, puzzle, car_fuels):\n",
    "        self.puzzle = puzzle\n",
    "        self.car_fuels = car_fuels\n",
    "\n",
    "    @classmethod\n",
    "    def construct_initial_puzzlestate(cls, puzzle_configuration_line):\n",
    "        return cls(cls.parse_initial_puzzle(puzzle_configuration_line[0]), cls.parse_initial_car_fuels(puzzle_configuration_line))\n",
    "\n",
    "    @classmethod\n",
    "    def construct_puzzlestate_copy(cls, puzzlestate):\n",
    "        return cls(np.copy(puzzlestate.puzzle), puzzlestate.car_fuels.copy())\n",
    "\n",
    "    @staticmethod\n",
    "    def parse_initial_puzzle(puzzle_configuration):\n",
    "        array_line_input = np.array(list(puzzle_configuration))\n",
    "        initial_puzzle = np.reshape(array_line_input, (6, 6))\n",
    "        return initial_puzzle\n",
    "\n",
    "    @staticmethod\n",
    "    def parse_initial_car_fuels(puzzle_configuration_line):\n",
    "        initial_car_fuels = dict.fromkeys(puzzle_configuration_line[0].replace('.', '')[::-1])\n",
    "        for predefined_car_fuel in puzzle_configuration_line[1:]:\n",
    "            initial_car_fuels[predefined_car_fuel[0]] = int(predefined_car_fuel[1])\n",
    "        for car, fuel in initial_car_fuels.items():\n",
    "            if fuel is None:\n",
    "                initial_car_fuels[car] = 100\n",
    "        return initial_car_fuels\n",
    "\n",
    "    # TODO implement this\n",
    "    def deparse_puzzle_configuration(self):\n",
    "        return None\n",
    "\n",
    "    def is_equal_state(self, puzzle):\n",
    "        return np.array_equal(self.puzzle, puzzle)\n",
    "\n",
    "    def is_goal_state(self):\n",
    "        return np.all(self.puzzle[2, np.array([4,5])] == 'A')\n",
    "\n",
    "    def get_children_puzzlestates(self):\n",
    "        children_nodes = []\n",
    "        # print('all cars for ref:', self.car_fuels)\n",
    "        # print('~~~~~~~~~~~~~~~~~~~~~~~~~~~~~~~~')\n",
    "\n",
    "        self.if_car_at_valet()  # if car at exit then removes it\n",
    "\n",
    "        for car in [car for car in self.car_fuels if self.car_fuels[car] > 0]:  # only iterate over cars with fuel\n",
    "\n",
    "            # print('puzzle at start of car iter\\n', self.puzzle)\n",
    "\n",
    "            # print('car name:', car)\n",
    "            car_indices = list(zip(*np.where(self.puzzle == car)))  # np.where() returns tuple (rows, cols) so zip to get coords\n",
    "            if not car_indices: # in case the car was removed by valet\n",
    "                continue\n",
    "            # print('car indices:', car_indices)\n",
    "            car_length_orientation_vector = np.sum(np.diff(car_indices, axis=0), axis=0)  # 2-in-1 to get diff b/w pairs for orientation and sum for length-1\n",
    "            # print(car_length_orientation_vector)\n",
    "\n",
    "            current_axis_identifier, car_axis = self.get_puzzle_car_axis(car_length_orientation_vector, car_indices)\n",
    "\n",
    "            # print('car axis:', car_axis)\n",
    "            empty_spot_indices = np.where(car_axis == '.')[0]\n",
    "            car_indices_one_axis = list(zip(*car_indices))[current_axis_identifier ^ 1]  # zip back for axes and index correct tuple\n",
    "            possible_movements_temp = np.sort(np.concatenate((np.array(car_indices_one_axis), empty_spot_indices)))  # periods and the car indices\n",
    "            # print('periods and the car', possible_movements_temp)\n",
    "            # print('car', car_indices_one_axis)\n",
    "            car_indices_in_possible_movements_temp = np.searchsorted(possible_movements_temp, car_indices_one_axis)\n",
    "            # print('car index in \"periods and the car\"', car_indices_in_possible_movements_temp)\n",
    "            possible_movements_temp_diff = np.ediff1d(possible_movements_temp)\n",
    "            # print('diff bw poss movements', temp_possible_movements_diff)\n",
    "\n",
    "            displacement_indices_direction_tuples = []  # tuple (displacement, slice indices in axis, direction string)\n",
    "            car_length = np.sum(car_length_orientation_vector) + 1\n",
    "            min_car_index_one_axis =min(car_indices_one_axis)\n",
    "            max_car_index_one_axis = max(car_indices_one_axis)\n",
    "\n",
    "            # left or up displacement\n",
    "            min_car_index_in_possible_movements_temp = min(car_indices_in_possible_movements_temp)\n",
    "            while min_car_index_in_possible_movements_temp - 1 >= 0:\n",
    "                if possible_movements_temp_diff[min_car_index_in_possible_movements_temp - 1] == 1:\n",
    "                    # car min index can be moved to pos_mov_temp[min_car_ind_pos_mov_temp - 1]\n",
    "                    displacement = possible_movements_temp[min_car_index_in_possible_movements_temp - 1] - min_car_index_one_axis\n",
    "                    movement_direction_string = 'left' if current_axis_identifier == 0 else 'up'\n",
    "                    car_axis_slice_indices = (max_car_index_one_axis - car_length + displacement + 1, max_car_index_one_axis + 1)\n",
    "                    displacement_indices_direction_tuples.append((displacement, car_axis_slice_indices, movement_direction_string))\n",
    "                    # print('can move {} by {}'.format(movement_direction_string, displacement))\n",
    "                    min_car_index_in_possible_movements_temp -= 1\n",
    "                else:\n",
    "                    break\n",
    "\n",
    "            # right or down displacement\n",
    "            max_car_index_in_possible_movements_temp = max(car_indices_in_possible_movements_temp)\n",
    "            while max_car_index_in_possible_movements_temp < np.size(possible_movements_temp_diff):\n",
    "                if possible_movements_temp_diff[max_car_index_in_possible_movements_temp] == 1:\n",
    "                    # car max index can be moved to pos_mov_temp[max_car_ind_pos_mov_temp + 1]\n",
    "                    displacement = possible_movements_temp[max_car_index_in_possible_movements_temp + 1] - max_car_index_one_axis\n",
    "                    movement_direction_string = 'right' if current_axis_identifier == 0 else 'down'\n",
    "                    car_axis_slice_indices = (min_car_index_one_axis, min_car_index_one_axis + car_length + displacement)\n",
    "                    displacement_indices_direction_tuples.append((displacement, car_axis_slice_indices, movement_direction_string))\n",
    "                    # print('can move {} by {}'.format(movement_direction_string, displacement))\n",
    "                    max_car_index_in_possible_movements_temp += 1\n",
    "                else:\n",
    "                    break\n",
    "\n",
    "            for movement_tuple in displacement_indices_direction_tuples:\n",
    "                # print('inside movement iter')\n",
    "\n",
    "                if self.car_fuels[car] >= abs(movement_tuple[0]):  # only complete move if car has enough fuel\n",
    "                    puzzlestate_copy = PuzzleState.construct_puzzlestate_copy(self)\n",
    "                    # print('car fuels before move made', self.car_fuels)\n",
    "                    puzzlestate_copy.car_fuels[car] -= abs(movement_tuple[0])\n",
    "                    _, car_axis = puzzlestate_copy.get_puzzle_car_axis(car_length_orientation_vector, car_indices)\n",
    "                    # print('puzzle before move made \\n', puzzlestate_copy.puzzle)\n",
    "                    # print('car axis before move made \\n', car_axis)\n",
    "                    car_axis_slice = car_axis[movement_tuple[1][0]:movement_tuple[1][1]]\n",
    "                    car_axis_slice[:] = np.roll(car_axis_slice, movement_tuple[0])\n",
    "                    # print('car axis after move made \\n', car_axis)\n",
    "                    # print('puzzle after move made \\n', puzzlestate_copy.puzzle)\n",
    "                    # print('car fuels after move made', puzzlestate_copy.car_fuels)\n",
    "                    # print('self.puzzle after move made\\n', self.puzzle)\n",
    "                    movement_tuple_formatted = (car, movement_tuple[2], movement_tuple[0])\n",
    "                    children_nodes.append((puzzlestate_copy, movement_tuple_formatted))\n",
    "\n",
    "            # print('\\n\\n')\n",
    "        return children_nodes\n",
    "\n",
    "    def get_puzzle_car_axis(self, car_length_orientation_vector, car_indices):\n",
    "        current_axis_identifier = None\n",
    "        car_axis = None\n",
    "        if car_length_orientation_vector[0] == 0 and car_length_orientation_vector[1] > 0:  # horizontal -> bit 0\n",
    "            current_axis_identifier = 0\n",
    "            car_axis = self.puzzle[car_indices[0][current_axis_identifier], :]\n",
    "        elif car_length_orientation_vector[0] > 0 and car_length_orientation_vector[1] == 0:  # vertical -> bit 1\n",
    "            current_axis_identifier = 1\n",
    "            car_axis = self.puzzle[:, car_indices[0][current_axis_identifier]]\n",
    "        return current_axis_identifier, car_axis\n",
    "\n",
    "    def if_car_at_valet(self):\n",
    "        neighbour_pairs_indices = np.where(self.puzzle[2, :-1] == self.puzzle[2, 1:])[0]  # compares equality of neighbour pairs\n",
    "        exit_car_indices = -1\n",
    "        # checks overlap of equal neighbours and possible car lengths at exits\n",
    "        for i in range(4, -1, -1):\n",
    "            possible_exit_car_indices = np.arange(i, 5)\n",
    "            if np.all(np.in1d(possible_exit_car_indices, neighbour_pairs_indices)):\n",
    "                exit_car_indices = np.append(possible_exit_car_indices, 5)\n",
    "            else:\n",
    "                break\n",
    "        if exit_car_indices != -1:\n",
    "            self.puzzle[2, exit_car_indices[0]:] = '.'"
   ]
  },
  {
   "cell_type": "markdown",
   "source": [
    "### State Space Search Class"
   ],
   "metadata": {
    "collapsed": false
   }
  },
  {
   "cell_type": "code",
   "execution_count": 218,
   "outputs": [],
   "source": [
    "class Node:\n",
    "\n",
    "    def __init__(self, puzzle_state, parent, children):\n",
    "        self.puzzle_state = puzzle_state\n",
    "        self.parent = parent\n",
    "        self.children = children\n",
    "        self.g = 0\n",
    "        self.h = 0\n",
    "        self.f = 0\n",
    "\n",
    "    def increment_g(self):\n",
    "        self.g = + 1\n",
    "\n",
    "    def set_h(self, h):\n",
    "        self.h = h\n",
    "\n",
    "    def update_f(self):\n",
    "        self.f = self.g + self.h\n",
    "\n"
   ],
   "metadata": {
    "collapsed": false
   }
  },
  {
   "cell_type": "markdown",
   "source": [
    "### Load Input File"
   ],
   "metadata": {
    "collapsed": false
   }
  },
  {
   "cell_type": "code",
   "execution_count": 219,
   "outputs": [],
   "source": [
    "PATH_TO_INPUT_FILE = '../Sample/sample-input.txt'\n",
    "\n",
    "def parse_input_file(path):\n",
    "    puzzlestates_temp = []\n",
    "    with open(path, 'r') as f:\n",
    "        lines_nonempty = filter(None, (line.rstrip() for line in f))\n",
    "        for line in [line for line in lines_nonempty if line[0] != '#']:\n",
    "            puzzle_configuration_line = line.split(' ')\n",
    "            puzzle_state = PuzzleState.construct_initial_puzzlestate(puzzle_configuration_line)\n",
    "            puzzlestates_temp.append(puzzle_state)\n",
    "    return puzzlestates_temp\n",
    "\n",
    "puzzlestates = parse_input_file(PATH_TO_INPUT_FILE)\n",
    "for puzzlestate in puzzlestates:\n",
    "    puzzlestate.get_children_puzzlestates()"
   ],
   "metadata": {
    "collapsed": false
   }
  },
  {
   "cell_type": "markdown",
   "metadata": {
    "collapsed": false
   },
   "source": [
    "### Heuristic Functions"
   ]
  },
  {
   "cell_type": "code",
   "execution_count": 220,
   "metadata": {
    "collapsed": false
   },
   "outputs": [],
   "source": [
    "def h1(puzzle):\n",
    "    index = np.ndarray.flatten(np.argwhere(puzzle.puzzle[2] == 'A'))\n",
    "    test = puzzle.puzzle[2, index[-1]+1:]\n",
    "    test = test[test != '.']\n",
    "    return len(set(test))"
   ]
  },
  {
   "cell_type": "code",
   "execution_count": 221,
   "metadata": {
    "collapsed": false
   },
   "outputs": [],
   "source": [
    "def h2(puzzle):\n",
    "    index = np.ndarray.flatten(np.argwhere(puzzle.puzzle[2] == 'A'))\n",
    "    test = puzzle.puzzle[2, index[-1]+1:]\n",
    "    test = test[test != '.']\n",
    "    return len(test)"
   ]
  },
  {
   "cell_type": "code",
   "execution_count": 222,
   "metadata": {
    "collapsed": false
   },
   "outputs": [],
   "source": [
    "def h3(puzzle):\n",
    "    return h1(puzzle) * 4"
   ]
  },
  {
   "cell_type": "code",
   "execution_count": 223,
   "metadata": {
    "collapsed": false
   },
   "outputs": [],
   "source": [
    "def board(puzzle):\n",
    "    for element in puzzle:\n",
    "        print(*element)"
   ]
  }
 ],
 "metadata": {
  "kernelspec": {
   "display_name": "Python 3",
   "language": "python",
   "name": "python3"
  },
  "language_info": {
   "codemirror_mode": {
    "name": "ipython",
    "version": 2
   },
   "file_extension": ".py",
   "mimetype": "text/x-python",
   "name": "python",
   "nbconvert_exporter": "python",
   "pygments_lexer": "ipython2",
   "version": "2.7.6"
  }
 },
 "nbformat": 4,
 "nbformat_minor": 0
}
