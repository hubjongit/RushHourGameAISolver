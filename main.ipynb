{
 "cells": [
  {
   "cell_type": "code",
   "execution_count": 3,
   "outputs": [],
   "source": [
    "import numpy as np"
   ],
   "metadata": {
    "collapsed": false
   }
  },
  {
   "cell_type": "code",
   "execution_count": null,
   "outputs": [],
   "source": [
    "class PuzzleState:\n",
    "\n",
    "    def __init__(self):\n",
    "        self._puzzle_state = None\n",
    "\n",
    "    def parseInitialPuzzle(self, input_line_puzzle):\n",
    "\n"
   ],
   "metadata": {
    "collapsed": false
   }
  },
  {
   "cell_type": "code",
   "execution_count": null,
   "outputs": [],
   "source": [
    "sample_input = 'BBIJ....IJCC..IAAMGDDK.MGH.KL.GHFFL.'\n",
    "\n",
    "def parse_initial_puzzle(input_line_puzzle):\n",
    "    array_line_input = np.array(list(input_line_puzzle))\n",
    "    initial_puzzle_state = np.reshape(array_line_input, (6, 6))\n",
    "    print(initial_puzzle_state)\n",
    "\n",
    "\n",
    "parse_initial_puzzle(sample_input)"
   ],
   "metadata": {
    "collapsed": false,
    "pycharm": {
     "is_executing": true
    }
   }
  },
  {
   "cell_type": "code",
   "execution_count": null,
   "outputs": [],
   "source": [],
   "metadata": {
    "collapsed": false
   }
  }
 ],
 "metadata": {
  "kernelspec": {
   "display_name": "Python 3",
   "language": "python",
   "name": "python3"
  },
  "language_info": {
   "codemirror_mode": {
    "name": "ipython",
    "version": 2
   },
   "file_extension": ".py",
   "mimetype": "text/x-python",
   "name": "python",
   "nbconvert_exporter": "python",
   "pygments_lexer": "ipython2",
   "version": "2.7.6"
  }
 },
 "nbformat": 4,
 "nbformat_minor": 0
}
