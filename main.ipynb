{
 "cells": [
  {
   "cell_type": "code",
   "execution_count": 157,
   "outputs": [],
   "source": [
    "import numpy as np"
   ],
   "metadata": {
    "collapsed": false
   }
  },
  {
   "cell_type": "markdown",
   "source": [
    "### Setup Functions"
   ],
   "metadata": {
    "collapsed": false
   }
  },
  {
   "cell_type": "code",
   "execution_count": 164,
   "outputs": [
    {
     "name": "stdout",
     "output_type": "stream",
     "text": [
      "[['B' 'B' 'I' 'J' '.' '.']\n",
      " ['.' '.' 'I' 'J' 'C' 'C']\n",
      " ['.' '.' 'I' 'A' 'A' 'M']\n",
      " ['G' 'D' 'D' 'K' '.' 'M']\n",
      " ['G' 'H' '.' 'K' 'L' '.']\n",
      " ['G' 'H' 'F' 'F' 'L' '.']]\n",
      "{'D': 100, 'F': 100, 'B': 100, 'L': 100, 'G': 100, 'I': 100, 'H': 100, 'J': 100, 'C': 100, 'A': 100, 'K': 100, 'M': 100}\n",
      "[['.' '.' 'I' '.' '.' '.']\n",
      " ['B' 'B' 'I' '.' 'K' '.']\n",
      " ['G' 'H' 'A' 'A' 'K' 'L']\n",
      " ['G' 'H' 'D' 'D' 'K' 'L']\n",
      " ['G' '.' '.' 'J' 'E' 'E']\n",
      " ['F' 'F' '.' 'J' '.' '.']]\n",
      "{'D': 100, 'F': 100, 'B': 100, 'L': 100, 'G': 100, 'I': 100, 'H': 100, 'J': 100, 'E': 100, 'A': 100, 'K': 100}\n",
      "[['J' 'B' 'B' 'C' 'C' 'C']\n",
      " ['J' 'D' 'D' '.' '.' 'M']\n",
      " ['J' 'A' 'A' 'L' '.' 'M']\n",
      " ['F' 'F' 'K' 'L' '.' 'N']\n",
      " ['.' '.' 'K' 'G' 'G' 'N']\n",
      " ['.' 'H' 'H' '.' '.' '.']]\n",
      "{'D': 100, 'F': 100, 'N': 100, 'B': 100, 'L': 100, 'G': 100, 'H': 100, 'J': 100, 'C': 100, 'A': 100, 'K': 100, 'M': 100}\n",
      "[['B' 'B' 'B' '.' '.' 'M']\n",
      " ['C' 'C' 'D' 'D' '.' 'M']\n",
      " ['A' 'A' 'K' 'L' '.' 'M']\n",
      " ['J' '.' 'K' 'L' 'E' 'E']\n",
      " ['J' '.' 'G' 'G' '.' '.']\n",
      " ['J' 'H' 'H' 'H' 'I' 'I']]\n",
      "{'J': 0, 'B': 4, 'D': 100, 'E': 100, 'L': 100, 'G': 100, 'I': 100, 'H': 100, 'C': 100, 'A': 100, 'K': 100, 'M': 100}\n",
      "[['I' 'J' 'B' 'B' 'C' 'C']\n",
      " ['I' 'J' 'D' 'D' 'L' '.']\n",
      " ['I' 'J' 'A' 'A' 'L' '.']\n",
      " ['E' 'E' 'K' '.' 'L' '.']\n",
      " ['.' '.' 'K' 'F' 'F' '.']\n",
      " ['.' 'G' 'G' 'H' 'H' '.']]\n",
      "{'F': 0, 'G': 6, 'D': 100, 'E': 100, 'B': 100, 'L': 100, 'I': 100, 'H': 100, 'J': 100, 'C': 100, 'A': 100, 'K': 100}\n",
      "[['B' 'B' '.' 'G' '.' 'H']\n",
      " ['E' '.' '.' 'G' '.' 'H']\n",
      " ['E' 'A' 'A' 'G' '.' 'I']\n",
      " ['.' '.' 'F' 'C' 'C' 'I']\n",
      " ['D' 'D' 'F' '.' '.' 'I']\n",
      " ['.' '.' 'F' '.' '.' '.']]\n",
      "{'F': 100, 'D': 100, 'B': 100, 'C': 100, 'G': 100, 'I': 100, 'H': 100, 'E': 100, 'A': 100}\n"
     ]
    }
   ],
   "source": [
    "PATH_TO_INPUT_FILE = '../Sample/sample-input.txt'\n",
    "\n",
    "def parse_input_file(path):\n",
    "    puzzles_temp = []\n",
    "    with open(path, 'r') as f:\n",
    "        lines_nonempty = filter(None, (line.rstrip() for line in f))\n",
    "        for line in [line for line in lines_nonempty if line[0] != '#']:\n",
    "            puzzle_configuration_line = line.split(' ')\n",
    "            puzzle_state = PuzzleState.construct_initial_puzzle_state(puzzle_configuration_line)\n",
    "            puzzles_temp.append(puzzle_state)\n",
    "    return puzzles_temp\n",
    "\n",
    "puzzles = parse_input_file(PATH_TO_INPUT_FILE)\n",
    "\n",
    "for puzzle in puzzles:\n",
    "    print(puzzle.puzzle)\n",
    "    print(puzzle.car_fuels)"
   ],
   "metadata": {
    "collapsed": false
   }
  },
  {
   "cell_type": "code",
   "execution_count": 158,
   "outputs": [],
   "source": [
    "class PuzzleState:\n",
    "\n",
    "    def __init__(self, puzzle, car_fuels):\n",
    "        self.puzzle = puzzle\n",
    "        self.car_fuels = car_fuels\n",
    "\n",
    "    @classmethod\n",
    "    def construct_initial_puzzle_state(cls, puzzle_configuration_line):\n",
    "        return cls(cls.parse_initial_puzzle(puzzle_configuration_line[0]), cls.parse_initial_car_fuels(puzzle_configuration_line))\n",
    "\n",
    "    @staticmethod\n",
    "    def parse_initial_puzzle(puzzle_configuration):\n",
    "        array_line_input = np.array(list(puzzle_configuration))\n",
    "        initial_puzzle = np.reshape(array_line_input, (6, 6))\n",
    "        return initial_puzzle\n",
    "\n",
    "    @staticmethod\n",
    "    def parse_initial_car_fuels(puzzle_configuration_line):\n",
    "        cars = set(puzzle_configuration_line[0].replace('.', ''))\n",
    "        initial_car_fuels = {}\n",
    "        for predefined_car_fuel in puzzle_configuration_line[1:]:\n",
    "            initial_car_fuels[predefined_car_fuel[0]] = int(predefined_car_fuel[1])\n",
    "        for car in cars.difference(set(initial_car_fuels)):\n",
    "            initial_car_fuels[car] = 100\n",
    "        return initial_car_fuels"
   ],
   "metadata": {
    "collapsed": false
   }
  },
  {
   "cell_type": "code",
   "execution_count": null,
   "outputs": [],
   "source": [
    "# index a row\n",
    "print(initial_puzzle_state[0])\n",
    "# index a column but show as horizontal reg array\n",
    "print(initial_puzzle_state[:, 5])\n",
    "# index a column but show as a vertical column array of 1element arrays\n",
    "print(initial_puzzle_state[:, np.array([5])])\n",
    "# location for ambulance to win\n",
    "print(initial_puzzle_state[2, np.array([4,5])])"
   ],
   "metadata": {
    "collapsed": false
   }
  },
  {
   "cell_type": "code",
   "execution_count": null,
   "outputs": [],
   "source": [],
   "metadata": {
    "collapsed": false
   }
  }
 ],
 "metadata": {
  "kernelspec": {
   "display_name": "Python 3",
   "language": "python",
   "name": "python3"
  },
  "language_info": {
   "codemirror_mode": {
    "name": "ipython",
    "version": 2
   },
   "file_extension": ".py",
   "mimetype": "text/x-python",
   "name": "python",
   "nbconvert_exporter": "python",
   "pygments_lexer": "ipython2",
   "version": "2.7.6"
  }
 },
 "nbformat": 4,
 "nbformat_minor": 0
}
