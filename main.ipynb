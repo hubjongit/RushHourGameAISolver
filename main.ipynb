{
 "cells": [
  {
   "cell_type": "code",
   "execution_count": 2,
   "outputs": [],
   "source": [
    "import numpy as np"
   ],
   "metadata": {
    "collapsed": false
   }
  },
  {
   "cell_type": "code",
   "execution_count": null,
   "outputs": [],
   "source": [
    "class PuzzleState:\n",
    "\n",
    "    def __init__(self):\n",
    "        self._puzzle_state = None\n",
    "\n",
    "    # def parseInitialPuzzle(self, input_line_puzzle):\n",
    "\n"
   ],
   "metadata": {
    "collapsed": false
   }
  },
  {
   "cell_type": "code",
   "execution_count": 73,
   "outputs": [
    {
     "name": "stdout",
     "output_type": "stream",
     "text": [
      "['BBIJ....IJCC..IAAMGDDK.MGH.KL.GHFFL.']\n",
      "['..I...BBI.K.GHAAKLGHDDKLG..JEEFF.J..']\n",
      "['JBBCCCJDD..MJAAL.MFFKL.N..KGGN.HH...']\n",
      "['BBB..MCCDD.MAAKL.MJ.KLEEJ.GG..JHHHII', 'J0', 'B4']\n",
      "['IJBBCCIJDDL.IJAAL.EEK.L...KFF..GGHH.', 'F0', 'G6']\n",
      "['BB.G.HE..G.HEAAG.I..FCCIDDF..I..F...']\n"
     ]
    }
   ],
   "source": [
    "sample_input = 'BBIJ....IJCC..IAAMGDDK.MGH.KL.GHFFL.'\n",
    "\n",
    "def parse_initial_puzzle(input_line_puzzle):\n",
    "    array_line_input = np.array(list(input_line_puzzle))\n",
    "    initial_puzzle_state = np.reshape(array_line_input, (6, 6))\n",
    "    print(initial_puzzle_state,'\\n')\n",
    "    # index a row\n",
    "    print(initial_puzzle_state[0])\n",
    "    # index a column but show as a vertical column array of 1element arrays\n",
    "    print(initial_puzzle_state[:, np.array([5])])\n",
    "    # index a column but show as horizontal reg array\n",
    "    print(initial_puzzle_state[:, 5])\n",
    "    # location for ambulance to win\n",
    "    print(initial_puzzle_state[2, np.array([4,5])])\n",
    "\n",
    "PATH_TO_INPUT_FILE = '../Sample/sample-input.txt'\n",
    "\n",
    "def parse_input_line(path):\n",
    "    with open(path, 'r') as f:\n",
    "        lines_nonempty = filter(None, (line.rstrip() for line in f))\n",
    "        for line in [line for line in lines_nonempty if line[0] != '#']:\n",
    "            print(line.split(' '))\n",
    "\n",
    "\n",
    "\n",
    "\n",
    "# parse_initial_puzzle(sample_input)\n",
    "parse_input_line(PATH_TO_INPUT_FILE)"
   ],
   "metadata": {
    "collapsed": false
   }
  },
  {
   "cell_type": "code",
   "execution_count": 55,
   "outputs": [],
   "source": [],
   "metadata": {
    "collapsed": false
   }
  },
  {
   "cell_type": "code",
   "execution_count": null,
   "outputs": [],
   "source": [],
   "metadata": {
    "collapsed": false
   }
  }
 ],
 "metadata": {
  "kernelspec": {
   "display_name": "Python 3",
   "language": "python",
   "name": "python3"
  },
  "language_info": {
   "codemirror_mode": {
    "name": "ipython",
    "version": 2
   },
   "file_extension": ".py",
   "mimetype": "text/x-python",
   "name": "python",
   "nbconvert_exporter": "python",
   "pygments_lexer": "ipython2",
   "version": "2.7.6"
  }
 },
 "nbformat": 4,
 "nbformat_minor": 0
}
