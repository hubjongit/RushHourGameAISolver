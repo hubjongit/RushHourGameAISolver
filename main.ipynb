{
 "cells": [
  {
   "cell_type": "code",
   "execution_count": 4,
   "outputs": [],
   "source": [
    "import numpy as np"
   ],
   "metadata": {
    "collapsed": false
   }
  },
  {
   "cell_type": "markdown",
   "source": [
    "### Setup Functions"
   ],
   "metadata": {
    "collapsed": false
   }
  },
  {
   "cell_type": "code",
   "execution_count": 6,
   "outputs": [
    {
     "name": "stdout",
     "output_type": "stream",
     "text": [
      "[['B' 'B' 'I' 'J' '.' '.']\n",
      " ['.' '.' 'I' 'J' 'C' 'C']\n",
      " ['.' '.' 'I' 'A' 'A' 'M']\n",
      " ['G' 'D' 'D' 'K' '.' 'M']\n",
      " ['G' 'H' '.' 'K' 'L' '.']\n",
      " ['G' 'H' 'F' 'F' 'L' '.']]\n",
      "{'G': 100, 'H': 100, 'D': 100, 'L': 100, 'K': 100, 'C': 100, 'F': 100, 'A': 100, 'J': 100, 'B': 100, 'I': 100, 'M': 100}\n",
      "[['.' '.' 'I' '.' '.' '.']\n",
      " ['B' 'B' 'I' '.' 'K' '.']\n",
      " ['G' 'H' 'A' 'A' 'K' 'L']\n",
      " ['G' 'H' 'D' 'D' 'K' 'L']\n",
      " ['G' '.' '.' 'J' 'E' 'E']\n",
      " ['F' 'F' '.' 'J' '.' '.']]\n",
      "{'G': 100, 'H': 100, 'J': 100, 'D': 100, 'L': 100, 'K': 100, 'F': 100, 'A': 100, 'B': 100, 'E': 100, 'I': 100}\n",
      "[['J' 'B' 'B' 'C' 'C' 'C']\n",
      " ['J' 'D' 'D' '.' '.' 'M']\n",
      " ['J' 'A' 'A' 'L' '.' 'M']\n",
      " ['F' 'F' 'K' 'L' '.' 'N']\n",
      " ['.' '.' 'K' 'G' 'G' 'N']\n",
      " ['.' 'H' 'H' '.' '.' '.']]\n",
      "{'A': 100, 'G': 100, 'N': 100, 'H': 100, 'L': 100, 'F': 100, 'K': 100, 'C': 100, 'J': 100, 'B': 100, 'D': 100, 'M': 100}\n",
      "[['B' 'B' 'B' '.' '.' 'M']\n",
      " ['C' 'C' 'D' 'D' '.' 'M']\n",
      " ['A' 'A' 'K' 'L' '.' 'M']\n",
      " ['J' '.' 'K' 'L' 'E' 'E']\n",
      " ['J' '.' 'G' 'G' '.' '.']\n",
      " ['J' 'H' 'H' 'H' 'I' 'I']]\n",
      "{'J': 0, 'B': 4, 'G': 100, 'H': 100, 'I': 100, 'L': 100, 'K': 100, 'C': 100, 'A': 100, 'E': 100, 'D': 100, 'M': 100}\n",
      "[['I' 'J' 'B' 'B' 'C' 'C']\n",
      " ['I' 'J' 'D' 'D' 'L' '.']\n",
      " ['I' 'J' 'A' 'A' 'L' '.']\n",
      " ['E' 'E' 'K' '.' 'L' '.']\n",
      " ['.' '.' 'K' 'F' 'F' '.']\n",
      " ['.' 'G' 'G' 'H' 'H' '.']]\n",
      "{'F': 0, 'G': 6, 'A': 100, 'H': 100, 'I': 100, 'L': 100, 'K': 100, 'C': 100, 'J': 100, 'B': 100, 'E': 100, 'D': 100}\n",
      "[['B' 'B' '.' 'G' '.' 'H']\n",
      " ['E' '.' '.' 'G' '.' 'H']\n",
      " ['E' 'A' 'A' 'G' '.' 'I']\n",
      " ['.' '.' 'F' 'C' 'C' 'I']\n",
      " ['D' 'D' 'F' '.' '.' 'I']\n",
      " ['.' '.' 'F' '.' '.' '.']]\n",
      "{'G': 100, 'H': 100, 'D': 100, 'F': 100, 'C': 100, 'A': 100, 'B': 100, 'E': 100, 'I': 100}\n"
     ]
    }
   ],
   "source": [
    "PATH_TO_INPUT_FILE = '../Sample/sample-input.txt'\n",
    "\n",
    "def parse_input_file(path):\n",
    "    puzzles_temp = []\n",
    "    with open(path, 'r') as f:\n",
    "        lines_nonempty = filter(None, (line.rstrip() for line in f))\n",
    "        for line in [line for line in lines_nonempty if line[0] != '#']:\n",
    "            puzzle_configuration_line = line.split(' ')\n",
    "            puzzle_state = PuzzleState.construct_initial_puzzle_state(puzzle_configuration_line)\n",
    "            puzzles_temp.append(puzzle_state)\n",
    "    return puzzles_temp\n",
    "\n",
    "puzzles = parse_input_file(PATH_TO_INPUT_FILE)\n",
    "\n",
    "for puzzle in puzzles:\n",
    "    print(puzzle.puzzle)\n",
    "    print(puzzle.car_fuels)\n"
   ],
   "metadata": {
    "collapsed": false
   }
  },
  {
   "cell_type": "code",
   "execution_count": 5,
   "outputs": [],
   "source": [
    "class PuzzleState:\n",
    "\n",
    "    def __init__(self, puzzle, car_fuels):\n",
    "        self.puzzle = puzzle\n",
    "        self.car_fuels = car_fuels\n",
    "\n",
    "    @classmethod\n",
    "    def construct_initial_puzzle_state(cls, puzzle_configuration_line):\n",
    "        return cls(cls.parse_initial_puzzle(puzzle_configuration_line[0]), cls.parse_initial_car_fuels(puzzle_configuration_line))\n",
    "\n",
    "    @staticmethod\n",
    "    def parse_initial_puzzle(puzzle_configuration):\n",
    "        array_line_input = np.array(list(puzzle_configuration))\n",
    "        initial_puzzle = np.reshape(array_line_input, (6, 6))\n",
    "        return initial_puzzle\n",
    "\n",
    "    @staticmethod\n",
    "    def parse_initial_car_fuels(puzzle_configuration_line):\n",
    "        cars = set(puzzle_configuration_line[0].replace('.', ''))\n",
    "        initial_car_fuels = {}\n",
    "        for predefined_car_fuel in puzzle_configuration_line[1:]:\n",
    "            initial_car_fuels[predefined_car_fuel[0]] = int(predefined_car_fuel[1])\n",
    "        for car in cars.difference(set(initial_car_fuels)):\n",
    "            initial_car_fuels[car] = 100\n",
    "        return initial_car_fuels\n",
    "\n",
    "    # TODO implement this\n",
    "    def deparse_puzzle_configuration(self):\n",
    "        return None\n",
    "\n",
    "class Node:\n",
    "\n",
    "    def __init__(self, puzzle_state, parent, children):\n",
    "        self.puzzle_state = puzzle_state\n",
    "        self.parent = parent\n",
    "        self.children = children\n",
    "        self.g = 0\n",
    "        self.h = 0\n",
    "        self.f = 0\n",
    "\n",
    "    def increment_g(self):\n",
    "        self.g =+ 1\n",
    "\n",
    "    def set_h(self, h):\n",
    "        self.h = h\n",
    "\n",
    "    def update_f(self):\n",
    "        self.f = self.g + self.h\n",
    "\n",
    "\n",
    "\n"
   ],
   "metadata": {
    "collapsed": false
   }
  },
  {
   "cell_type": "code",
   "execution_count": 60,
   "outputs": [
    {
     "name": "stdout",
     "output_type": "stream",
     "text": [
      "[['B' 'B' 'I' 'J' '.' '.']\n",
      " ['.' '.' 'I' 'J' 'C' 'C']\n",
      " ['.' '.' 'I' 'A' 'A' 'M']\n",
      " ['G' 'D' 'D' 'K' '.' 'M']\n",
      " ['G' 'H' '.' 'K' 'L' '.']\n",
      " ['G' 'H' 'F' 'F' 'L' '.']]\n",
      "\n",
      "\n",
      "['B' 'B' 'I' 'J' '.' '.']\n",
      "['.' 'C' 'M' 'M' '.' '.']\n",
      "[['.']\n",
      " ['C']\n",
      " ['M']\n",
      " ['M']\n",
      " ['.']\n",
      " ['.']]\n",
      "['A' 'M']\n"
     ]
    },
    {
     "ename": "TypeError",
     "evalue": "iteration over a 0-d array",
     "output_type": "error",
     "traceback": [
      "\u001B[0;31m---------------------------------------------------------------------------\u001B[0m",
      "\u001B[0;31mTypeError\u001B[0m                                 Traceback (most recent call last)",
      "Cell \u001B[0;32mIn[60], line 14\u001B[0m\n\u001B[1;32m     11\u001B[0m \u001B[38;5;28mprint\u001B[39m(puzzle[\u001B[38;5;241m2\u001B[39m, np\u001B[38;5;241m.\u001B[39marray([\u001B[38;5;241m4\u001B[39m,\u001B[38;5;241m5\u001B[39m])])\n\u001B[1;32m     13\u001B[0m \u001B[38;5;28;01mfor\u001B[39;00m x \u001B[38;5;129;01min\u001B[39;00m np\u001B[38;5;241m.\u001B[39mnditer(puzzle):\n\u001B[0;32m---> 14\u001B[0m     \u001B[38;5;28;43mprint\u001B[39;49m\u001B[43m(\u001B[49m\u001B[38;5;241;43m*\u001B[39;49m\u001B[43mx\u001B[49m\u001B[43m)\u001B[49m\n",
      "\u001B[0;31mTypeError\u001B[0m: iteration over a 0-d array"
     ]
    }
   ],
   "source": [
    "puzzle = puzzles[0].puzzle\n",
    "print(puzzle)\n",
    "print(\"\\n\")\n",
    "# index a row\n",
    "print(puzzle[0])\n",
    "# index a column but show as horizontal reg array\n",
    "print(puzzle[:, 5])\n",
    "# index a column but show as a vertical column array of 1element arrays\n",
    "print(puzzle[:, np.array([5])])\n",
    "# location for ambulance to win\n",
    "print(puzzle[2, np.array([4,5])])"
   ],
   "metadata": {
    "collapsed": false
   }
  },
  {
   "cell_type": "markdown",
   "source": [
    "### Heuristic Functions"
   ],
   "metadata": {
    "collapsed": false
   }
  },
  {
   "cell_type": "code",
   "execution_count": 34,
   "outputs": [],
   "source": [
    "def h1(puzzle):\n",
    "    index = np.ndarray.flatten(np.argwhere(puzzle.puzzle[2] == 'A'))\n",
    "    test = puzzle.puzzle[2, index[-1]+1:]\n",
    "    test = test[test != '.']\n",
    "    return len(set(test))\n",
    "\n",
    "# Other solution\n",
    "# for arr in puzzles:\n",
    "#     print(arr.puzzle[2])\n",
    "#     _, idx = np.unique(arr.puzzle[2], return_index=True)\n",
    "#     temp = arr.puzzle[2][np.sort(idx)]\n",
    "#     arr_no_duplicates = temp[temp != '.']\n",
    "#     print((arr_no_duplicates.size - 1) - (np.where(arr_no_duplicates == 'A')[0][0]))"
   ],
   "metadata": {
    "collapsed": false,
    "pycharm": {
     "name": "#%%\n"
    }
   }
  },
  {
   "cell_type": "code",
   "execution_count": 37,
   "outputs": [],
   "source": [
    "def h2(puzzle):\n",
    "    index = np.ndarray.flatten(np.argwhere(puzzle.puzzle[2] == 'A'))\n",
    "    test = puzzle.puzzle[2, index[-1]+1:]\n",
    "    test = test[test != '.']\n",
    "    return len(test)"
   ],
   "metadata": {
    "collapsed": false,
    "pycharm": {
     "name": "#%%\n"
    }
   }
  },
  {
   "cell_type": "code",
   "execution_count": 39,
   "outputs": [],
   "source": [
    "def h3(puzzle):\n",
    "    return h1(puzzle) * 4"
   ],
   "metadata": {
    "collapsed": false,
    "pycharm": {
     "name": "#%%\n"
    }
   }
  },
  {
   "cell_type": "code",
   "execution_count": null,
   "outputs": [],
   "source": [
    "def is_goal(puzzle):\n",
    "    return np.all(puzzle[2, np.array([4,5])] == 'A')"
   ],
   "metadata": {
    "collapsed": false,
    "pycharm": {
     "name": "#%%\n"
    }
   }
  },
  {
   "cell_type": "code",
   "execution_count": null,
   "outputs": [],
   "source": [
    "def is_equal_state(puzzle1, puzzle2):\n",
    "    return np.array_equal(puzzle1, puzzle2)"
   ],
   "metadata": {
    "collapsed": false,
    "pycharm": {
     "name": "#%%\n"
    }
   }
  },
  {
   "cell_type": "code",
   "execution_count": null,
   "outputs": [],
   "source": [
    "def board(puzzle):\n",
    "    for element in puzzle:\n",
    "        print(*element)"
   ],
   "metadata": {
    "collapsed": false,
    "pycharm": {
     "name": "#%%\n"
    }
   }
  }
 ],
 "metadata": {
  "kernelspec": {
   "display_name": "Python 3",
   "language": "python",
   "name": "python3"
  },
  "language_info": {
   "codemirror_mode": {
    "name": "ipython",
    "version": 2
   },
   "file_extension": ".py",
   "mimetype": "text/x-python",
   "name": "python",
   "nbconvert_exporter": "python",
   "pygments_lexer": "ipython2",
   "version": "2.7.6"
  }
 },
 "nbformat": 4,
 "nbformat_minor": 0
}