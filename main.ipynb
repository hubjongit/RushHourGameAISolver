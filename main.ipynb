{
 "cells": [
  {
   "cell_type": "code",
   "execution_count": 402,
   "metadata": {
    "collapsed": false
   },
   "outputs": [],
   "source": [
    "import random\n",
    "\n",
    "import numpy as np"
   ]
  },
  {
   "cell_type": "markdown",
   "metadata": {
    "collapsed": false
   },
   "source": [
    "### Setup Functions"
   ]
  },
  {
   "cell_type": "code",
   "execution_count": 404,
   "metadata": {
    "collapsed": false
   },
   "outputs": [
    {
     "ename": "TypeError",
     "evalue": "'list' object is not callable",
     "output_type": "error",
     "traceback": [
      "\u001B[0;31m---------------------------------------------------------------------------\u001B[0m",
      "\u001B[0;31mTypeError\u001B[0m                                 Traceback (most recent call last)",
      "Cell \u001B[0;32mIn[404], line 13\u001B[0m\n\u001B[1;32m     10\u001B[0m             puzzles_temp\u001B[38;5;241m.\u001B[39mappend(puzzle_state)\n\u001B[1;32m     11\u001B[0m     \u001B[38;5;28;01mreturn\u001B[39;00m puzzles_temp\n\u001B[0;32m---> 13\u001B[0m puzzles \u001B[38;5;241m=\u001B[39m \u001B[43mparse_input_file\u001B[49m\u001B[43m(\u001B[49m\u001B[43mPATH_TO_INPUT_FILE\u001B[49m\u001B[43m)\u001B[49m\n\u001B[1;32m     15\u001B[0m \u001B[38;5;28;01mfor\u001B[39;00m puzzle \u001B[38;5;129;01min\u001B[39;00m puzzles:\n\u001B[1;32m     16\u001B[0m     \u001B[38;5;28mprint\u001B[39m(puzzle\u001B[38;5;241m.\u001B[39mpuzzle)\n",
      "Cell \u001B[0;32mIn[404], line 9\u001B[0m, in \u001B[0;36mparse_input_file\u001B[0;34m(path)\u001B[0m\n\u001B[1;32m      7\u001B[0m     \u001B[38;5;28;01mfor\u001B[39;00m line \u001B[38;5;129;01min\u001B[39;00m [line \u001B[38;5;28;01mfor\u001B[39;00m line \u001B[38;5;129;01min\u001B[39;00m lines_nonempty \u001B[38;5;28;01mif\u001B[39;00m line[\u001B[38;5;241m0\u001B[39m] \u001B[38;5;241m!=\u001B[39m \u001B[38;5;124m'\u001B[39m\u001B[38;5;124m#\u001B[39m\u001B[38;5;124m'\u001B[39m]:\n\u001B[1;32m      8\u001B[0m         puzzle_configuration_line \u001B[38;5;241m=\u001B[39m line\u001B[38;5;241m.\u001B[39msplit(\u001B[38;5;124m'\u001B[39m\u001B[38;5;124m \u001B[39m\u001B[38;5;124m'\u001B[39m)\n\u001B[0;32m----> 9\u001B[0m         puzzle_state \u001B[38;5;241m=\u001B[39m \u001B[43mPuzzleState\u001B[49m\u001B[38;5;241;43m.\u001B[39;49m\u001B[43mconstruct_initial_puzzle_state\u001B[49m\u001B[43m(\u001B[49m\u001B[43mpuzzle_configuration_line\u001B[49m\u001B[43m)\u001B[49m\n\u001B[1;32m     10\u001B[0m         puzzles_temp\u001B[38;5;241m.\u001B[39mappend(puzzle_state)\n\u001B[1;32m     11\u001B[0m \u001B[38;5;28;01mreturn\u001B[39;00m puzzles_temp\n",
      "Cell \u001B[0;32mIn[400], line 9\u001B[0m, in \u001B[0;36mPuzzleState.construct_initial_puzzle_state\u001B[0;34m(cls, puzzle_configuration_line)\u001B[0m\n\u001B[1;32m      7\u001B[0m \u001B[38;5;129m@classmethod\u001B[39m\n\u001B[1;32m      8\u001B[0m \u001B[38;5;28;01mdef\u001B[39;00m \u001B[38;5;21mconstruct_initial_puzzle_state\u001B[39m(\u001B[38;5;28mcls\u001B[39m, puzzle_configuration_line):\n\u001B[0;32m----> 9\u001B[0m     \u001B[38;5;28;01mreturn\u001B[39;00m \u001B[38;5;28mcls\u001B[39m(\u001B[38;5;28;43mcls\u001B[39;49m\u001B[38;5;241;43m.\u001B[39;49m\u001B[43mparse_initial_puzzle\u001B[49m\u001B[43m(\u001B[49m\u001B[43mpuzzle_configuration_line\u001B[49m\u001B[43m[\u001B[49m\u001B[38;5;241;43m0\u001B[39;49m\u001B[43m]\u001B[49m\u001B[43m)\u001B[49m,\n\u001B[1;32m     10\u001B[0m                \u001B[38;5;28mcls\u001B[39m\u001B[38;5;241m.\u001B[39mparse_initial_car_fuels(puzzle_configuration_line))\n",
      "Cell \u001B[0;32mIn[400], line 14\u001B[0m, in \u001B[0;36mPuzzleState.parse_initial_puzzle\u001B[0;34m(puzzle_configuration)\u001B[0m\n\u001B[1;32m     12\u001B[0m \u001B[38;5;129m@staticmethod\u001B[39m\n\u001B[1;32m     13\u001B[0m \u001B[38;5;28;01mdef\u001B[39;00m \u001B[38;5;21mparse_initial_puzzle\u001B[39m(puzzle_configuration):\n\u001B[0;32m---> 14\u001B[0m     array_line_input \u001B[38;5;241m=\u001B[39m np\u001B[38;5;241m.\u001B[39marray(\u001B[38;5;28;43mlist\u001B[39;49m\u001B[43m(\u001B[49m\u001B[43mpuzzle_configuration\u001B[49m\u001B[43m)\u001B[49m)\n\u001B[1;32m     15\u001B[0m     initial_puzzle \u001B[38;5;241m=\u001B[39m np\u001B[38;5;241m.\u001B[39mreshape(array_line_input, (\u001B[38;5;241m6\u001B[39m, \u001B[38;5;241m6\u001B[39m))\n\u001B[1;32m     16\u001B[0m     \u001B[38;5;28;01mreturn\u001B[39;00m initial_puzzle\n",
      "\u001B[0;31mTypeError\u001B[0m: 'list' object is not callable"
     ]
    }
   ],
   "source": [
    "PATH_TO_INPUT_FILE = '../Sample/sample-input.txt'\n",
    "\n",
    "def parse_input_file(path):\n",
    "    puzzles_temp = []\n",
    "    with open(path, 'r') as f:\n",
    "        lines_nonempty = filter(None, (line.rstrip() for line in f))\n",
    "        for line in [line for line in lines_nonempty if line[0] != '#']:\n",
    "            puzzle_configuration_line = line.split(' ')\n",
    "            puzzle_state = PuzzleState.construct_initial_puzzle_state(puzzle_configuration_line)\n",
    "            puzzles_temp.append(puzzle_state)\n",
    "    return puzzles_temp\n",
    "\n",
    "puzzles = parse_input_file(PATH_TO_INPUT_FILE)\n",
    "\n",
    "for puzzle in puzzles:\n",
    "    print(puzzle.puzzle)\n",
    "    print(puzzle.car_fuels)\n"
   ]
  },
  {
   "cell_type": "code",
   "execution_count": null,
   "metadata": {
    "collapsed": false
   },
   "outputs": [],
   "source": [
    "class PuzzleState:\n",
    "\n",
    "    def __init__(self, puzzle, car_fuels):\n",
    "        self.puzzle = puzzle\n",
    "        self.car_fuels = car_fuels\n",
    "\n",
    "    @classmethod\n",
    "    def construct_initial_puzzle_state(cls, puzzle_configuration_line):\n",
    "        return cls(cls.parse_initial_puzzle(puzzle_configuration_line[0]),\n",
    "                   cls.parse_initial_car_fuels(puzzle_configuration_line))\n",
    "\n",
    "    @staticmethod\n",
    "    def parse_initial_puzzle(puzzle_configuration):\n",
    "        array_line_input = np.array(list(puzzle_configuration))\n",
    "        initial_puzzle = np.reshape(array_line_input, (6, 6))\n",
    "        return initial_puzzle\n",
    "\n",
    "    @staticmethod\n",
    "    def parse_initial_car_fuels(puzzle_configuration_line):\n",
    "        cars = set(puzzle_configuration_line[0].replace('.', ''))\n",
    "        initial_car_fuels = {}\n",
    "        for predefined_car_fuel in puzzle_configuration_line[1:]:\n",
    "            initial_car_fuels[predefined_car_fuel[0]] = int(predefined_car_fuel[1])\n",
    "        for car in cars.difference(set(initial_car_fuels)):\n",
    "            initial_car_fuels[car] = 100\n",
    "        return initial_car_fuels\n",
    "\n",
    "    # TODO implement this\n",
    "    def deparse_puzzle_configuration(self):\n",
    "        return None\n",
    "\n",
    "\n",
    "class Node:\n",
    "\n",
    "    def __init__(self, puzzle_state, parent, children):\n",
    "        self.puzzle_state = puzzle_state\n",
    "        self.parent = parent\n",
    "        self.children = children\n",
    "        self.g = 0\n",
    "        self.h = 0\n",
    "        self.f = 0\n",
    "\n",
    "    def increment_g(self):\n",
    "        self.g = + 1\n",
    "\n",
    "    def set_h(self, h):\n",
    "        self.h = h\n",
    "\n",
    "    def update_f(self):\n",
    "        self.f = self.g + self.h\n",
    "\n",
    "\n",
    "\n"
   ]
  },
  {
   "cell_type": "code",
   "execution_count": null,
   "metadata": {
    "collapsed": false
   },
   "outputs": [],
   "source": [
    "puzzle = puzzles[0].puzzle\n",
    "print(puzzle)\n",
    "print(\"\\n\")\n",
    "# index a row\n",
    "print(puzzle[0])\n",
    "# index a column but show as horizontal reg array\n",
    "print(puzzle[:, 5])\n",
    "# index a column but show as a vertical column array of 1element arrays\n",
    "print(puzzle[:, np.array([5])])\n",
    "# location for ambulance to win\n",
    "print(puzzle[2, np.array([4,5])])\n",
    "\n",
    "print(\"\\n\")"
   ]
  },
  {
   "cell_type": "code",
   "execution_count": null,
   "metadata": {
    "collapsed": false
   },
   "outputs": [],
   "source": [
    "# Makes empty new nodes list\n",
    "# • Gets car length\n",
    "# • Gets car name\n",
    "# • Chooses axis\n",
    "# Chooses direction (ex: left)\n",
    "# Loops for every period to the left\n",
    "# Displacement calc\n",
    "# • Fuel check\n",
    "# fuel change\n",
    "# Shifts the car\n",
    "# Runs valet?\n",
    "# Saves the node (state, fuels, direction, car name) to his new node list\n",
    "#\n",
    "# Repeats for right movement\n",
    "\n",
    "\n",
    "# it = np.nditer(a, flags=['multi_index'])\n",
    "# for x in it:\n",
    "#     print(it.multi_index)"
   ]
  },
  {
   "cell_type": "code",
   "execution_count": null,
   "metadata": {
    "collapsed": false
   },
   "outputs": [],
   "source": [
    "temp = puzzles[0]\n",
    "print(temp.puzzle)\n",
    "print('all cars for ref:', temp.car_fuels)\n",
    "for car in [car for car in temp.car_fuels if temp.car_fuels[car] > 0]: # only iterate over cars with fuel\n",
    "    print('car name:', car)\n",
    "    car_indices = list(zip(*np.where(temp.puzzle == car))) # np.where() returns tuple (rows, cols) so zip to get coords\n",
    "    print('car indicies:', car_indices)\n",
    "    length_orientation_vector = np.sum(np.diff(car_indices, axis=0), axis=0) # 2-in-1 to get diff b/w pairs for orientation and sum for length-1\n",
    "    print(length_orientation_vector)\n",
    "\n",
    "    current_axis_identifier = -1\n",
    "\n",
    "    if length_orientation_vector[0] == 0 and length_orientation_vector[1] > 0:\n",
    "        print('took horizontal path')\n",
    "        current_axis_identifier = 0\n",
    "        car_axis = temp.puzzle[car_indices[0][current_axis_identifier], :] # NEEDS TO AXIS DEPENDENT\n",
    "    elif length_orientation_vector[0] > 0 and length_orientation_vector[1] == 0:\n",
    "        print('took vertical path')\n",
    "        current_axis_identifier = 1\n",
    "        car_axis = temp.puzzle[:, car_indices[0][current_axis_identifier]] # NEEDS TO AXIS DEPENDENT\n",
    "\n",
    "    print('car axis:', car_axis)\n",
    "    empty_spot_indices = np.where(car_axis=='.')[0]\n",
    "    # print('TEST empty_spot_indices without indexing 0:', np.where(car_axis=='.'))\n",
    "    # print('TEST empty_spot_indices taking [0]:', empty_spot_indices)\n",
    "    car_indices_one_axis = list(zip(*car_indices))[current_axis_identifier^1]\n",
    "    # print('TEST car_indices_one_axis but we normally take [0]', list(zip(*car_indices)))\n",
    "    temp_possible_movements = np.sort(np.concatenate((np.array(car_indices_one_axis), empty_spot_indices)))\n",
    "    print('periods and the car', temp_possible_movements)\n",
    "    print('car', car_indices_one_axis)\n",
    "    car_index_in_temp = np.searchsorted(temp_possible_movements, car_indices_one_axis)\n",
    "    print('car index in \"periods and the car\"', car_index_in_temp)\n",
    "    temp_possible_movements_diff = np.ediff1d(temp_possible_movements)\n",
    "    print('diff bw poss movements', temp_possible_movements_diff)\n",
    "\n",
    "    index_temp = min(car_index_in_temp)-1\n",
    "    while index_temp >= 0:\n",
    "        if temp_possible_movements_diff[index_temp] == 1:\n",
    "            # max car index can be at temp_possible_movements[index_temp+1]\n",
    "            print('car min can be moved to this index in the line:', temp_possible_movements[index_temp])\n",
    "            # CALCULATE DIFF FOR MOVEMENT DIR AND DISPLACEMENT\n",
    "            index_temp -= 1\n",
    "        else:\n",
    "            break\n",
    "\n",
    "    index_temp = max(car_index_in_temp)\n",
    "    while index_temp < np.size(temp_possible_movements_diff):\n",
    "        if temp_possible_movements_diff[index_temp] == 1:\n",
    "            # max car index can be at temp_possible_movements[index_temp+1]\n",
    "            print('car max can be moved to this index in the line:', temp_possible_movements[index_temp+1])\n",
    "            # CALCULATE DIFF FOR MOVEMENT DIR AND DISPLACEMENT\n",
    "            index_temp += 1\n",
    "        else:\n",
    "            break\n",
    "\n",
    "\n",
    "    print('\\n\\n\\n\\n')"
   ]
  },
  {
   "cell_type": "code",
   "execution_count": null,
   "metadata": {
    "collapsed": false
   },
   "outputs": [],
   "source": [
    "# [['B' 'B' 'I' 'J' '.' '.']\n",
    "#  ['.' '.' 'I' 'J' 'C' 'C']\n",
    "#  ['.' '.' 'I' 'A' 'A' 'M']\n",
    "#  ['G' 'D' 'D' 'K' '.' 'M']\n",
    "#  ['G' 'H' '.' 'K' 'L' '.']\n",
    "#  ['G' 'H' 'F' 'F' 'L' '.']]"
   ]
  },
  {
   "cell_type": "markdown",
   "metadata": {
    "collapsed": false
   },
   "source": [
    "car index 1,2\n",
    "in diff[min(carindex)-1] == 1\n",
    "in diff[max(carindex)+0] == 1\n",
    "0 = 1-0\n",
    "1 = 2-1\n",
    "2 = 3-2\n",
    "3 = 4-3\n",
    "4 = 5-4\n",
    "\n",
    "max (0, min(carindex)) should let us make sure we dont index into negatives\n",
    "\n",
    "for the numbers greater than the max index of the car, the max index can be at those numbers\n",
    "for the numbers less than the min index of the car, the min index of the car can be at those numbers"
   ]
  },
  {
   "cell_type": "markdown",
   "metadata": {
    "collapsed": false
   },
   "source": [
    "### Heuristic Functions"
   ]
  },
  {
   "cell_type": "code",
   "execution_count": null,
   "metadata": {
    "collapsed": false,
    "pycharm": {
     "name": "#%%\n"
    }
   },
   "outputs": [],
   "source": [
    "def h1(puzzle):\n",
    "    index = np.ndarray.flatten(np.argwhere(puzzle.puzzle[2] == 'A'))\n",
    "    test = puzzle.puzzle[2, index[-1]+1:]\n",
    "    test = test[test != '.']\n",
    "    return len(set(test))\n",
    "\n",
    "# Other solution\n",
    "# for arr in puzzles:\n",
    "#     print(arr.puzzle[2])\n",
    "#     _, idx = np.unique(arr.puzzle[2], return_index=True)\n",
    "#     temp = arr.puzzle[2][np.sort(idx)]\n",
    "#     arr_no_duplicates = temp[temp != '.']\n",
    "#     print((arr_no_duplicates.size - 1) - (np.where(arr_no_duplicates == 'A')[0][0]))"
   ]
  },
  {
   "cell_type": "code",
   "execution_count": null,
   "metadata": {
    "collapsed": false,
    "pycharm": {
     "name": "#%%\n"
    }
   },
   "outputs": [],
   "source": [
    "def h2(puzzle):\n",
    "    index = np.ndarray.flatten(np.argwhere(puzzle.puzzle[2] == 'A'))\n",
    "    test = puzzle.puzzle[2, index[-1]+1:]\n",
    "    test = test[test != '.']\n",
    "    return len(test)"
   ]
  },
  {
   "cell_type": "code",
   "execution_count": null,
   "metadata": {
    "collapsed": false,
    "pycharm": {
     "name": "#%%\n"
    }
   },
   "outputs": [],
   "source": [
    "LAMBDA = 4\n",
    "\n",
    "def h3(puzzle):\n",
    "    return h1(puzzle) * LAMBDA"
   ]
  },
  {
   "cell_type": "code",
   "execution_count": null,
   "metadata": {
    "collapsed": false,
    "pycharm": {
     "name": "#%%\n"
    }
   },
   "outputs": [],
   "source": [
    "def is_goal(puzzle):\n",
    "    return np.all(puzzle[2, np.array([4,5])] == 'A')"
   ]
  },
  {
   "cell_type": "code",
   "execution_count": null,
   "metadata": {
    "collapsed": false,
    "pycharm": {
     "name": "#%%\n"
    }
   },
   "outputs": [],
   "source": [
    "def is_equal_state(puzzle1, puzzle2):\n",
    "    return np.array_equal(puzzle1, puzzle2)"
   ]
  },
  {
   "cell_type": "code",
   "execution_count": null,
   "metadata": {
    "collapsed": false,
    "pycharm": {
     "name": "#%%\n"
    }
   },
   "outputs": [],
   "source": [
    "def temp_board(puzzle):\n",
    "    for element in puzzle:\n",
    "        print(*element)"
   ]
  },
  {
   "cell_type": "code",
   "execution_count": null,
   "outputs": [],
   "source": [
    "def line_temp_board(puzzle):\n",
    "    for element in puzzle:\n",
    "        print(*element, end='', sep='')"
   ],
   "metadata": {
    "collapsed": false,
    "pycharm": {
     "name": "#%%\n"
    }
   }
  },
  {
   "cell_type": "code",
   "execution_count": null,
   "outputs": [],
   "source": [
    "def generate_puzzle():\n",
    "    f = open(\"input.txt\", \"w\")\n",
    "\n",
    "    for x in range(50):\n",
    "        HORIZONTAL_IDENTIFIER = 0\n",
    "        temp_board = '....................................'\n",
    "\n",
    "        #Inserting Ambulance\n",
    "        a_index = np.random.randint(0,5)\n",
    "        temp_board = temp_board[: 12 + a_index] + 'AA' + temp_board[a_index + 14 :]\n",
    "\n",
    "        #Inserting Cars\n",
    "        car_names = ['B', 'C', 'D', 'E', 'F', 'G', 'H', 'I', 'J', 'K', 'L', 'M']\n",
    "        number_of_cars = np.random.randint(6,13)\n",
    "        failures = 0\n",
    "        cars_inserted = 1\n",
    "\n",
    "        while cars_inserted <= number_of_cars:\n",
    "            if failures > 10:\n",
    "                break\n",
    "            car_length = np.random.randint(2,4)\n",
    "            car_index = np.random.randint(0, 7 - car_length)\n",
    "            orientation = np.random.randint(0,2)\n",
    "            car_line_index = np.random.randint(0,6)\n",
    "            car_name = car_names[cars_inserted - 1]\n",
    "\n",
    "            if orientation == HORIZONTAL_IDENTIFIER:\n",
    "                if not temp_board[6 * car_line_index + car_index : 6 * car_line_index + car_index + car_length].isupper():\n",
    "                    temp_board = temp_board[: 6 * car_line_index + car_index] + (car_name * car_length) + temp_board[6 * car_line_index + car_index + car_length :]\n",
    "                    cars_inserted += 1\n",
    "                else:\n",
    "                    failures += 1\n",
    "            else:\n",
    "                if not (temp_board[car_line_index + 6 * car_index] + temp_board[car_line_index + (6 * car_index) + 6] + (temp_board[car_line_index + (6 * car_index) + 12] if car_length == 3  else '')).isupper():\n",
    "                    temp_board = temp_board[: car_line_index + (6 * car_index)] + car_name + temp_board[car_line_index + 6 * car_index + 1 : car_line_index + 6 * car_index + 6] + car_name + temp_board[car_line_index + 6 * car_index + 7 : car_line_index + 6 * car_index + 12] + (car_name if car_length == 3  else '') + temp_board[ (car_line_index + 6 * car_index + 13) if car_length == 3 else (car_line_index + 6 * car_index + 12) :]\n",
    "                    cars_inserted += 1\n",
    "                else:\n",
    "                    failures += 1\n",
    "\n",
    "        #Giving cars fuel\n",
    "        has_random_amount = np.random.randint(0, cars_inserted/2)\n",
    "        for y in range(has_random_amount):\n",
    "            temp_board += \" \" + str(car_names[np.random.randint(0, cars_inserted)]) + str(np.random.randint(0, 101))\n",
    "\n",
    "        print(temp_board)\n",
    "        f.write(temp_board + \"\\n\")\n",
    "\n",
    "    f.close()"
   ],
   "metadata": {
    "collapsed": false,
    "pycharm": {
     "name": "#%%\n"
    }
   }
  },
  {
   "cell_type": "code",
   "execution_count": null,
   "outputs": [],
   "source": [
    "generate_puzzle()"
   ],
   "metadata": {
    "collapsed": false,
    "pycharm": {
     "name": "#%%\n"
    }
   }
  },
  {
   "cell_type": "code",
   "execution_count": null,
   "outputs": [],
   "source": [],
   "metadata": {
    "collapsed": false,
    "pycharm": {
     "name": "#%%\n"
    }
   }
  },
  {
   "cell_type": "code",
   "execution_count": null,
   "outputs": [],
   "source": [],
   "metadata": {
    "collapsed": false,
    "pycharm": {
     "name": "#%%\n"
    }
   }
  }
 ],
 "metadata": {
  "kernelspec": {
   "display_name": "Python 3",
   "language": "python",
   "name": "python3"
  },
  "language_info": {
   "codemirror_mode": {
    "name": "ipython",
    "version": 2
   },
   "file_extension": ".py",
   "mimetype": "text/x-python",
   "name": "python",
   "nbconvert_exporter": "python",
   "pygments_lexer": "ipython2",
   "version": "2.7.6"
  }
 },
 "nbformat": 4,
 "nbformat_minor": 0
}